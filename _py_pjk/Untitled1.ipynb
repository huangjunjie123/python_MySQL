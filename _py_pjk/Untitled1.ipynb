{
 "cells": [
  {
   "cell_type": "code",
   "execution_count": 3,
   "metadata": {},
   "outputs": [],
   "source": [
    "import numpy as np\n",
    "import pandas as pd"
   ]
  },
  {
   "cell_type": "code",
   "execution_count": 4,
   "metadata": {},
   "outputs": [],
   "source": [
    "columns = pd.MultiIndex.from_arrays([['US', 'US', 'US', 'JP', 'JP'],[1, 3, 5, 1, 3]],names=['cty', 'tenor'])"
   ]
  },
  {
   "cell_type": "code",
   "execution_count": 5,
   "metadata": {},
   "outputs": [],
   "source": [
    "hier_df = pd.DataFrame(np.random.randn(4, 5), columns=columns)"
   ]
  },
  {
   "cell_type": "code",
   "execution_count": 6,
   "metadata": {},
   "outputs": [
    {
     "data": {
      "text/html": [
       "<div>\n",
       "<style scoped>\n",
       "    .dataframe tbody tr th:only-of-type {\n",
       "        vertical-align: middle;\n",
       "    }\n",
       "\n",
       "    .dataframe tbody tr th {\n",
       "        vertical-align: top;\n",
       "    }\n",
       "\n",
       "    .dataframe thead tr th {\n",
       "        text-align: left;\n",
       "    }\n",
       "</style>\n",
       "<table border=\"1\" class=\"dataframe\">\n",
       "  <thead>\n",
       "    <tr>\n",
       "      <th>cty</th>\n",
       "      <th colspan=\"3\" halign=\"left\">US</th>\n",
       "      <th colspan=\"2\" halign=\"left\">JP</th>\n",
       "    </tr>\n",
       "    <tr>\n",
       "      <th>tenor</th>\n",
       "      <th>1</th>\n",
       "      <th>3</th>\n",
       "      <th>5</th>\n",
       "      <th>1</th>\n",
       "      <th>3</th>\n",
       "    </tr>\n",
       "  </thead>\n",
       "  <tbody>\n",
       "    <tr>\n",
       "      <th>0</th>\n",
       "      <td>1.479563</td>\n",
       "      <td>0.741695</td>\n",
       "      <td>0.053949</td>\n",
       "      <td>0.558424</td>\n",
       "      <td>1.814518</td>\n",
       "    </tr>\n",
       "    <tr>\n",
       "      <th>1</th>\n",
       "      <td>1.184124</td>\n",
       "      <td>0.478636</td>\n",
       "      <td>0.624478</td>\n",
       "      <td>0.622035</td>\n",
       "      <td>0.650530</td>\n",
       "    </tr>\n",
       "    <tr>\n",
       "      <th>2</th>\n",
       "      <td>0.738136</td>\n",
       "      <td>-1.652582</td>\n",
       "      <td>-0.353745</td>\n",
       "      <td>0.664949</td>\n",
       "      <td>-0.715593</td>\n",
       "    </tr>\n",
       "    <tr>\n",
       "      <th>3</th>\n",
       "      <td>1.351448</td>\n",
       "      <td>-0.058260</td>\n",
       "      <td>0.775633</td>\n",
       "      <td>0.842761</td>\n",
       "      <td>-0.632057</td>\n",
       "    </tr>\n",
       "  </tbody>\n",
       "</table>\n",
       "</div>"
      ],
      "text/plain": [
       "cty          US                            JP          \n",
       "tenor         1         3         5         1         3\n",
       "0      1.479563  0.741695  0.053949  0.558424  1.814518\n",
       "1      1.184124  0.478636  0.624478  0.622035  0.650530\n",
       "2      0.738136 -1.652582 -0.353745  0.664949 -0.715593\n",
       "3      1.351448 -0.058260  0.775633  0.842761 -0.632057"
      ]
     },
     "execution_count": 6,
     "metadata": {},
     "output_type": "execute_result"
    }
   ],
   "source": [
    "hier_df"
   ]
  },
  {
   "cell_type": "code",
   "execution_count": 7,
   "metadata": {},
   "outputs": [
    {
     "data": {
      "text/html": [
       "<div>\n",
       "<style scoped>\n",
       "    .dataframe tbody tr th:only-of-type {\n",
       "        vertical-align: middle;\n",
       "    }\n",
       "\n",
       "    .dataframe tbody tr th {\n",
       "        vertical-align: top;\n",
       "    }\n",
       "\n",
       "    .dataframe thead th {\n",
       "        text-align: right;\n",
       "    }\n",
       "</style>\n",
       "<table border=\"1\" class=\"dataframe\">\n",
       "  <thead>\n",
       "    <tr style=\"text-align: right;\">\n",
       "      <th>cty</th>\n",
       "      <th>JP</th>\n",
       "      <th>US</th>\n",
       "    </tr>\n",
       "  </thead>\n",
       "  <tbody>\n",
       "    <tr>\n",
       "      <th>0</th>\n",
       "      <td>2</td>\n",
       "      <td>3</td>\n",
       "    </tr>\n",
       "    <tr>\n",
       "      <th>1</th>\n",
       "      <td>2</td>\n",
       "      <td>3</td>\n",
       "    </tr>\n",
       "    <tr>\n",
       "      <th>2</th>\n",
       "      <td>2</td>\n",
       "      <td>3</td>\n",
       "    </tr>\n",
       "    <tr>\n",
       "      <th>3</th>\n",
       "      <td>2</td>\n",
       "      <td>3</td>\n",
       "    </tr>\n",
       "  </tbody>\n",
       "</table>\n",
       "</div>"
      ],
      "text/plain": [
       "cty  JP  US\n",
       "0     2   3\n",
       "1     2   3\n",
       "2     2   3\n",
       "3     2   3"
      ]
     },
     "execution_count": 7,
     "metadata": {},
     "output_type": "execute_result"
    }
   ],
   "source": [
    "hier_df.groupby(level='cty', axis=1).count()"
   ]
  },
  {
   "cell_type": "code",
   "execution_count": 8,
   "metadata": {},
   "outputs": [
    {
     "data": {
      "text/html": [
       "<div>\n",
       "<style scoped>\n",
       "    .dataframe tbody tr th:only-of-type {\n",
       "        vertical-align: middle;\n",
       "    }\n",
       "\n",
       "    .dataframe tbody tr th {\n",
       "        vertical-align: top;\n",
       "    }\n",
       "\n",
       "    .dataframe thead th {\n",
       "        text-align: right;\n",
       "    }\n",
       "</style>\n",
       "<table border=\"1\" class=\"dataframe\">\n",
       "  <thead>\n",
       "    <tr style=\"text-align: right;\">\n",
       "      <th>tenor</th>\n",
       "      <th>1</th>\n",
       "      <th>3</th>\n",
       "      <th>5</th>\n",
       "    </tr>\n",
       "  </thead>\n",
       "  <tbody>\n",
       "    <tr>\n",
       "      <th>0</th>\n",
       "      <td>2</td>\n",
       "      <td>2</td>\n",
       "      <td>1</td>\n",
       "    </tr>\n",
       "    <tr>\n",
       "      <th>1</th>\n",
       "      <td>2</td>\n",
       "      <td>2</td>\n",
       "      <td>1</td>\n",
       "    </tr>\n",
       "    <tr>\n",
       "      <th>2</th>\n",
       "      <td>2</td>\n",
       "      <td>2</td>\n",
       "      <td>1</td>\n",
       "    </tr>\n",
       "    <tr>\n",
       "      <th>3</th>\n",
       "      <td>2</td>\n",
       "      <td>2</td>\n",
       "      <td>1</td>\n",
       "    </tr>\n",
       "  </tbody>\n",
       "</table>\n",
       "</div>"
      ],
      "text/plain": [
       "tenor  1  3  5\n",
       "0      2  2  1\n",
       "1      2  2  1\n",
       "2      2  2  1\n",
       "3      2  2  1"
      ]
     },
     "execution_count": 8,
     "metadata": {},
     "output_type": "execute_result"
    }
   ],
   "source": [
    "hier_df.groupby(level='tenor', axis=1).count()"
   ]
  },
  {
   "cell_type": "code",
   "execution_count": 14,
   "metadata": {},
   "outputs": [],
   "source": [
    "frame = pd.DataFrame({'data1': np.random.randn(1000),'data2': np.random.randn(1000)})"
   ]
  },
  {
   "cell_type": "code",
   "execution_count": 21,
   "metadata": {},
   "outputs": [],
   "source": [
    "quartiles = pd.cut(frame.data1, 4).value_counts()"
   ]
  },
  {
   "cell_type": "code",
   "execution_count": 22,
   "metadata": {},
   "outputs": [
    {
     "data": {
      "text/plain": [
       "(-1.434, 0.353]     581\n",
       "(0.353, 2.14]       333\n",
       "(-3.228, -1.434]     70\n",
       "(2.14, 3.927]        16\n",
       "Name: data1, dtype: int64"
      ]
     },
     "execution_count": 22,
     "metadata": {},
     "output_type": "execute_result"
    }
   ],
   "source": [
    "quartiles"
   ]
  },
  {
   "cell_type": "code",
   "execution_count": 23,
   "metadata": {},
   "outputs": [
    {
     "data": {
      "text/plain": [
       "(0.663, 3.927]      250\n",
       "(0.0247, 0.663]     250\n",
       "(-0.635, 0.0247]    250\n",
       "(-3.222, -0.635]    250\n",
       "Name: data1, dtype: int64"
      ]
     },
     "execution_count": 23,
     "metadata": {},
     "output_type": "execute_result"
    }
   ],
   "source": [
    "pd.qcut(frame.data1, 4).value_counts()"
   ]
  },
  {
   "cell_type": "code",
   "execution_count": 24,
   "metadata": {},
   "outputs": [
    {
     "data": {
      "text/plain": [
       "0         (0.353, 2.14]\n",
       "1       (-1.434, 0.353]\n",
       "2         (0.353, 2.14]\n",
       "3       (-1.434, 0.353]\n",
       "4         (0.353, 2.14]\n",
       "5         (0.353, 2.14]\n",
       "6       (-1.434, 0.353]\n",
       "7       (-1.434, 0.353]\n",
       "8         (0.353, 2.14]\n",
       "9      (-3.228, -1.434]\n",
       "10        (0.353, 2.14]\n",
       "11        (0.353, 2.14]\n",
       "12        (0.353, 2.14]\n",
       "13        (0.353, 2.14]\n",
       "14        (0.353, 2.14]\n",
       "15      (-1.434, 0.353]\n",
       "16      (-1.434, 0.353]\n",
       "17        (0.353, 2.14]\n",
       "18        (0.353, 2.14]\n",
       "19        (0.353, 2.14]\n",
       "20      (-1.434, 0.353]\n",
       "21     (-3.228, -1.434]\n",
       "22      (-1.434, 0.353]\n",
       "23      (-1.434, 0.353]\n",
       "24        (0.353, 2.14]\n",
       "25        (0.353, 2.14]\n",
       "26      (-1.434, 0.353]\n",
       "27      (-1.434, 0.353]\n",
       "28      (-1.434, 0.353]\n",
       "29        (0.353, 2.14]\n",
       "             ...       \n",
       "970     (-1.434, 0.353]\n",
       "971     (-1.434, 0.353]\n",
       "972       (0.353, 2.14]\n",
       "973     (-1.434, 0.353]\n",
       "974     (-1.434, 0.353]\n",
       "975       (0.353, 2.14]\n",
       "976       (0.353, 2.14]\n",
       "977     (-1.434, 0.353]\n",
       "978     (-1.434, 0.353]\n",
       "979    (-3.228, -1.434]\n",
       "980       (0.353, 2.14]\n",
       "981     (-1.434, 0.353]\n",
       "982       (0.353, 2.14]\n",
       "983       (0.353, 2.14]\n",
       "984     (-1.434, 0.353]\n",
       "985       (0.353, 2.14]\n",
       "986     (-1.434, 0.353]\n",
       "987     (-1.434, 0.353]\n",
       "988     (-1.434, 0.353]\n",
       "989       (0.353, 2.14]\n",
       "990     (-1.434, 0.353]\n",
       "991       (0.353, 2.14]\n",
       "992     (-1.434, 0.353]\n",
       "993       (0.353, 2.14]\n",
       "994     (-1.434, 0.353]\n",
       "995     (-1.434, 0.353]\n",
       "996     (-1.434, 0.353]\n",
       "997     (-1.434, 0.353]\n",
       "998       (0.353, 2.14]\n",
       "999       (0.353, 2.14]\n",
       "Name: data1, Length: 1000, dtype: category\n",
       "Categories (4, interval[float64]): [(-3.228, -1.434] < (-1.434, 0.353] < (0.353, 2.14] < (2.14, 3.927]]"
      ]
     },
     "execution_count": 24,
     "metadata": {},
     "output_type": "execute_result"
    }
   ],
   "source": [
    "pd.cut(frame.data1, 4)   #返回的还是原来的，除非是value_counts(),但是见下面的描述是写有区间的。"
   ]
  },
  {
   "cell_type": "code",
   "execution_count": 25,
   "metadata": {},
   "outputs": [],
   "source": [
    "def get_stats(group):\n",
    "    return {'min': group.min(), 'max': group.max(),'count': group.count(), 'mean': group.mean()}"
   ]
  },
  {
   "cell_type": "code",
   "execution_count": 29,
   "metadata": {},
   "outputs": [],
   "source": [
    "quartiles_ = pd.cut(frame.data1, 4)"
   ]
  },
  {
   "cell_type": "code",
   "execution_count": 30,
   "metadata": {},
   "outputs": [],
   "source": [
    "grouped = frame.data2.groupby(quartiles_)"
   ]
  },
  {
   "cell_type": "code",
   "execution_count": 31,
   "metadata": {},
   "outputs": [
    {
     "data": {
      "text/plain": [
       "<pandas.core.groupby.groupby.SeriesGroupBy object at 0x04BC1E70>"
      ]
     },
     "execution_count": 31,
     "metadata": {},
     "output_type": "execute_result"
    }
   ],
   "source": [
    "grouped"
   ]
  },
  {
   "cell_type": "code",
   "execution_count": 32,
   "metadata": {},
   "outputs": [
    {
     "data": {
      "text/plain": [
       "data1                  \n",
       "(-3.228, -1.434]  count     70.000000\n",
       "                  max        2.012740\n",
       "                  mean       0.000390\n",
       "                  min       -1.781939\n",
       "(-1.434, 0.353]   count    581.000000\n",
       "                  max        3.519033\n",
       "                  mean      -0.010956\n",
       "                  min       -3.069386\n",
       "(0.353, 2.14]     count    333.000000\n",
       "                  max        3.034122\n",
       "                  mean      -0.076066\n",
       "                  min       -2.532841\n",
       "(2.14, 3.927]     count     16.000000\n",
       "                  max        1.210667\n",
       "                  mean       0.129529\n",
       "                  min       -2.792519\n",
       "Name: data2, dtype: float64"
      ]
     },
     "execution_count": 32,
     "metadata": {},
     "output_type": "execute_result"
    }
   ],
   "source": [
    "grouped.apply(get_stats)"
   ]
  },
  {
   "cell_type": "code",
   "execution_count": 33,
   "metadata": {},
   "outputs": [
    {
     "data": {
      "text/html": [
       "<div>\n",
       "<style scoped>\n",
       "    .dataframe tbody tr th:only-of-type {\n",
       "        vertical-align: middle;\n",
       "    }\n",
       "\n",
       "    .dataframe tbody tr th {\n",
       "        vertical-align: top;\n",
       "    }\n",
       "\n",
       "    .dataframe thead th {\n",
       "        text-align: right;\n",
       "    }\n",
       "</style>\n",
       "<table border=\"1\" class=\"dataframe\">\n",
       "  <thead>\n",
       "    <tr style=\"text-align: right;\">\n",
       "      <th></th>\n",
       "      <th>count</th>\n",
       "      <th>max</th>\n",
       "      <th>mean</th>\n",
       "      <th>min</th>\n",
       "    </tr>\n",
       "    <tr>\n",
       "      <th>data1</th>\n",
       "      <th></th>\n",
       "      <th></th>\n",
       "      <th></th>\n",
       "      <th></th>\n",
       "    </tr>\n",
       "  </thead>\n",
       "  <tbody>\n",
       "    <tr>\n",
       "      <th>(-3.228, -1.434]</th>\n",
       "      <td>70.0</td>\n",
       "      <td>2.012740</td>\n",
       "      <td>0.000390</td>\n",
       "      <td>-1.781939</td>\n",
       "    </tr>\n",
       "    <tr>\n",
       "      <th>(-1.434, 0.353]</th>\n",
       "      <td>581.0</td>\n",
       "      <td>3.519033</td>\n",
       "      <td>-0.010956</td>\n",
       "      <td>-3.069386</td>\n",
       "    </tr>\n",
       "    <tr>\n",
       "      <th>(0.353, 2.14]</th>\n",
       "      <td>333.0</td>\n",
       "      <td>3.034122</td>\n",
       "      <td>-0.076066</td>\n",
       "      <td>-2.532841</td>\n",
       "    </tr>\n",
       "    <tr>\n",
       "      <th>(2.14, 3.927]</th>\n",
       "      <td>16.0</td>\n",
       "      <td>1.210667</td>\n",
       "      <td>0.129529</td>\n",
       "      <td>-2.792519</td>\n",
       "    </tr>\n",
       "  </tbody>\n",
       "</table>\n",
       "</div>"
      ],
      "text/plain": [
       "                  count       max      mean       min\n",
       "data1                                                \n",
       "(-3.228, -1.434]   70.0  2.012740  0.000390 -1.781939\n",
       "(-1.434, 0.353]   581.0  3.519033 -0.010956 -3.069386\n",
       "(0.353, 2.14]     333.0  3.034122 -0.076066 -2.532841\n",
       "(2.14, 3.927]      16.0  1.210667  0.129529 -2.792519"
      ]
     },
     "execution_count": 33,
     "metadata": {},
     "output_type": "execute_result"
    }
   ],
   "source": [
    "grouped.apply(get_stats).unstack()"
   ]
  },
  {
   "cell_type": "code",
   "execution_count": 34,
   "metadata": {},
   "outputs": [],
   "source": [
    "grouping = pd.qcut(frame.data1, 10, labels=False)"
   ]
  },
  {
   "cell_type": "code",
   "execution_count": 35,
   "metadata": {},
   "outputs": [
    {
     "data": {
      "text/plain": [
       "0      7\n",
       "1      3\n",
       "2      8\n",
       "3      2\n",
       "4      8\n",
       "5      8\n",
       "6      4\n",
       "7      4\n",
       "8      9\n",
       "9      0\n",
       "10     7\n",
       "11     7\n",
       "12     8\n",
       "13     9\n",
       "14     8\n",
       "15     3\n",
       "16     5\n",
       "17     8\n",
       "18     7\n",
       "19     9\n",
       "20     2\n",
       "21     0\n",
       "22     5\n",
       "23     2\n",
       "24     8\n",
       "25     8\n",
       "26     2\n",
       "27     1\n",
       "28     2\n",
       "29     8\n",
       "      ..\n",
       "970    4\n",
       "971    3\n",
       "972    7\n",
       "973    1\n",
       "974    2\n",
       "975    9\n",
       "976    9\n",
       "977    5\n",
       "978    1\n",
       "979    0\n",
       "980    7\n",
       "981    6\n",
       "982    7\n",
       "983    7\n",
       "984    3\n",
       "985    8\n",
       "986    3\n",
       "987    1\n",
       "988    3\n",
       "989    6\n",
       "990    1\n",
       "991    6\n",
       "992    4\n",
       "993    7\n",
       "994    1\n",
       "995    1\n",
       "996    4\n",
       "997    1\n",
       "998    7\n",
       "999    7\n",
       "Name: data1, Length: 1000, dtype: int64"
      ]
     },
     "execution_count": 35,
     "metadata": {},
     "output_type": "execute_result"
    }
   ],
   "source": [
    "grouping"
   ]
  },
  {
   "cell_type": "code",
   "execution_count": 38,
   "metadata": {},
   "outputs": [],
   "source": [
    "grouping_ = pd.qcut(frame.data1, 10)"
   ]
  },
  {
   "cell_type": "code",
   "execution_count": 39,
   "metadata": {},
   "outputs": [
    {
     "data": {
      "text/plain": [
       "0        (0.493, 0.829]\n",
       "1      (-0.482, -0.221]\n",
       "2         (0.829, 1.22]\n",
       "3        (-0.8, -0.482]\n",
       "4         (0.829, 1.22]\n",
       "5         (0.829, 1.22]\n",
       "6      (-0.221, 0.0247]\n",
       "7      (-0.221, 0.0247]\n",
       "8         (1.22, 3.927]\n",
       "9      (-3.222, -1.215]\n",
       "10       (0.493, 0.829]\n",
       "11       (0.493, 0.829]\n",
       "12        (0.829, 1.22]\n",
       "13        (1.22, 3.927]\n",
       "14        (0.829, 1.22]\n",
       "15     (-0.482, -0.221]\n",
       "16      (0.0247, 0.228]\n",
       "17        (0.829, 1.22]\n",
       "18       (0.493, 0.829]\n",
       "19        (1.22, 3.927]\n",
       "20       (-0.8, -0.482]\n",
       "21     (-3.222, -1.215]\n",
       "22      (0.0247, 0.228]\n",
       "23       (-0.8, -0.482]\n",
       "24        (0.829, 1.22]\n",
       "25        (0.829, 1.22]\n",
       "26       (-0.8, -0.482]\n",
       "27       (-1.215, -0.8]\n",
       "28       (-0.8, -0.482]\n",
       "29        (0.829, 1.22]\n",
       "             ...       \n",
       "970    (-0.221, 0.0247]\n",
       "971    (-0.482, -0.221]\n",
       "972      (0.493, 0.829]\n",
       "973      (-1.215, -0.8]\n",
       "974      (-0.8, -0.482]\n",
       "975       (1.22, 3.927]\n",
       "976       (1.22, 3.927]\n",
       "977     (0.0247, 0.228]\n",
       "978      (-1.215, -0.8]\n",
       "979    (-3.222, -1.215]\n",
       "980      (0.493, 0.829]\n",
       "981      (0.228, 0.493]\n",
       "982      (0.493, 0.829]\n",
       "983      (0.493, 0.829]\n",
       "984    (-0.482, -0.221]\n",
       "985       (0.829, 1.22]\n",
       "986    (-0.482, -0.221]\n",
       "987      (-1.215, -0.8]\n",
       "988    (-0.482, -0.221]\n",
       "989      (0.228, 0.493]\n",
       "990      (-1.215, -0.8]\n",
       "991      (0.228, 0.493]\n",
       "992    (-0.221, 0.0247]\n",
       "993      (0.493, 0.829]\n",
       "994      (-1.215, -0.8]\n",
       "995      (-1.215, -0.8]\n",
       "996    (-0.221, 0.0247]\n",
       "997      (-1.215, -0.8]\n",
       "998      (0.493, 0.829]\n",
       "999      (0.493, 0.829]\n",
       "Name: data1, Length: 1000, dtype: category\n",
       "Categories (10, interval[float64]): [(-3.222, -1.215] < (-1.215, -0.8] < (-0.8, -0.482] < (-0.482, -0.221] ... (0.228, 0.493] < (0.493, 0.829] < (0.829, 1.22] < (1.22, 3.927]]"
      ]
     },
     "execution_count": 39,
     "metadata": {},
     "output_type": "execute_result"
    }
   ],
   "source": [
    "grouping_"
   ]
  },
  {
   "cell_type": "code",
   "execution_count": 40,
   "metadata": {},
   "outputs": [],
   "source": [
    "states = ['Ohio', 'New York', 'Vermont', 'Florida','Oregon', 'Nevada', 'California', 'Idaho']"
   ]
  },
  {
   "cell_type": "code",
   "execution_count": 41,
   "metadata": {},
   "outputs": [],
   "source": [
    "group_key = ['East'] * 4 + ['West'] * 4"
   ]
  },
  {
   "cell_type": "code",
   "execution_count": 42,
   "metadata": {},
   "outputs": [],
   "source": [
    "data = pd.Series(np.random.randn(8), index=states)"
   ]
  },
  {
   "cell_type": "code",
   "execution_count": 43,
   "metadata": {},
   "outputs": [
    {
     "data": {
      "text/plain": [
       "Ohio         -0.519585\n",
       "New York      1.143393\n",
       "Vermont      -0.463172\n",
       "Florida       1.602359\n",
       "Oregon       -2.457285\n",
       "Nevada       -0.227450\n",
       "California    0.719948\n",
       "Idaho         1.124856\n",
       "dtype: float64"
      ]
     },
     "execution_count": 43,
     "metadata": {},
     "output_type": "execute_result"
    }
   ],
   "source": [
    "data"
   ]
  },
  {
   "cell_type": "code",
   "execution_count": 44,
   "metadata": {},
   "outputs": [
    {
     "data": {
      "text/plain": [
       "Vermont   -0.463172\n",
       "Nevada    -0.227450\n",
       "Idaho      1.124856\n",
       "dtype: float64"
      ]
     },
     "execution_count": 44,
     "metadata": {},
     "output_type": "execute_result"
    }
   ],
   "source": [
    "data[['Vermont', 'Nevada', 'Idaho']]"
   ]
  },
  {
   "cell_type": "code",
   "execution_count": 47,
   "metadata": {},
   "outputs": [
    {
     "ename": "KeyError",
     "evalue": "('Vermont', 'Nevada', 'Idaho')",
     "output_type": "error",
     "traceback": [
      "\u001b[1;31m---------------------------------------------------------------------------\u001b[0m",
      "\u001b[1;31mTypeError\u001b[0m                                 Traceback (most recent call last)",
      "\u001b[1;32mC:\\ProgramData\\Anaconda3\\lib\\site-packages\\pandas\\core\\indexes\\base.py\u001b[0m in \u001b[0;36mget_value\u001b[1;34m(self, series, key)\u001b[0m\n\u001b[0;32m   3108\u001b[0m             \u001b[1;32mtry\u001b[0m\u001b[1;33m:\u001b[0m\u001b[1;33m\u001b[0m\u001b[0m\n\u001b[1;32m-> 3109\u001b[1;33m                 \u001b[1;32mreturn\u001b[0m \u001b[0mlibindex\u001b[0m\u001b[1;33m.\u001b[0m\u001b[0mget_value_box\u001b[0m\u001b[1;33m(\u001b[0m\u001b[0ms\u001b[0m\u001b[1;33m,\u001b[0m \u001b[0mkey\u001b[0m\u001b[1;33m)\u001b[0m\u001b[1;33m\u001b[0m\u001b[0m\n\u001b[0m\u001b[0;32m   3110\u001b[0m             \u001b[1;32mexcept\u001b[0m \u001b[0mIndexError\u001b[0m\u001b[1;33m:\u001b[0m\u001b[1;33m\u001b[0m\u001b[0m\n",
      "\u001b[1;32mpandas\\_libs\\index.pyx\u001b[0m in \u001b[0;36mpandas._libs.index.get_value_box\u001b[1;34m()\u001b[0m\n",
      "\u001b[1;32mpandas\\_libs\\index.pyx\u001b[0m in \u001b[0;36mpandas._libs.index.get_value_box\u001b[1;34m()\u001b[0m\n",
      "\u001b[1;31mTypeError\u001b[0m: 'tuple' object cannot be interpreted as an integer",
      "\nDuring handling of the above exception, another exception occurred:\n",
      "\u001b[1;31mKeyError\u001b[0m                                  Traceback (most recent call last)",
      "\u001b[1;32m<ipython-input-47-50ee87a94bc4>\u001b[0m in \u001b[0;36m<module>\u001b[1;34m()\u001b[0m\n\u001b[1;32m----> 1\u001b[1;33m \u001b[0mdata\u001b[0m\u001b[1;33m[\u001b[0m\u001b[1;34m'Vermont'\u001b[0m\u001b[1;33m,\u001b[0m \u001b[1;34m'Nevada'\u001b[0m\u001b[1;33m,\u001b[0m \u001b[1;34m'Idaho'\u001b[0m\u001b[1;33m]\u001b[0m\u001b[1;33m\u001b[0m\u001b[0m\n\u001b[0m",
      "\u001b[1;32mC:\\ProgramData\\Anaconda3\\lib\\site-packages\\pandas\\core\\series.py\u001b[0m in \u001b[0;36m__getitem__\u001b[1;34m(self, key)\u001b[0m\n\u001b[0;32m    764\u001b[0m         \u001b[0mkey\u001b[0m \u001b[1;33m=\u001b[0m \u001b[0mcom\u001b[0m\u001b[1;33m.\u001b[0m\u001b[0m_apply_if_callable\u001b[0m\u001b[1;33m(\u001b[0m\u001b[0mkey\u001b[0m\u001b[1;33m,\u001b[0m \u001b[0mself\u001b[0m\u001b[1;33m)\u001b[0m\u001b[1;33m\u001b[0m\u001b[0m\n\u001b[0;32m    765\u001b[0m         \u001b[1;32mtry\u001b[0m\u001b[1;33m:\u001b[0m\u001b[1;33m\u001b[0m\u001b[0m\n\u001b[1;32m--> 766\u001b[1;33m             \u001b[0mresult\u001b[0m \u001b[1;33m=\u001b[0m \u001b[0mself\u001b[0m\u001b[1;33m.\u001b[0m\u001b[0mindex\u001b[0m\u001b[1;33m.\u001b[0m\u001b[0mget_value\u001b[0m\u001b[1;33m(\u001b[0m\u001b[0mself\u001b[0m\u001b[1;33m,\u001b[0m \u001b[0mkey\u001b[0m\u001b[1;33m)\u001b[0m\u001b[1;33m\u001b[0m\u001b[0m\n\u001b[0m\u001b[0;32m    767\u001b[0m \u001b[1;33m\u001b[0m\u001b[0m\n\u001b[0;32m    768\u001b[0m             \u001b[1;32mif\u001b[0m \u001b[1;32mnot\u001b[0m \u001b[0mis_scalar\u001b[0m\u001b[1;33m(\u001b[0m\u001b[0mresult\u001b[0m\u001b[1;33m)\u001b[0m\u001b[1;33m:\u001b[0m\u001b[1;33m\u001b[0m\u001b[0m\n",
      "\u001b[1;32mC:\\ProgramData\\Anaconda3\\lib\\site-packages\\pandas\\core\\indexes\\base.py\u001b[0m in \u001b[0;36mget_value\u001b[1;34m(self, series, key)\u001b[0m\n\u001b[0;32m   3115\u001b[0m                     \u001b[1;32mraise\u001b[0m \u001b[0mInvalidIndexError\u001b[0m\u001b[1;33m(\u001b[0m\u001b[0mkey\u001b[0m\u001b[1;33m)\u001b[0m\u001b[1;33m\u001b[0m\u001b[0m\n\u001b[0;32m   3116\u001b[0m                 \u001b[1;32melse\u001b[0m\u001b[1;33m:\u001b[0m\u001b[1;33m\u001b[0m\u001b[0m\n\u001b[1;32m-> 3117\u001b[1;33m                     \u001b[1;32mraise\u001b[0m \u001b[0me1\u001b[0m\u001b[1;33m\u001b[0m\u001b[0m\n\u001b[0m\u001b[0;32m   3118\u001b[0m             \u001b[1;32mexcept\u001b[0m \u001b[0mException\u001b[0m\u001b[1;33m:\u001b[0m  \u001b[1;31m# pragma: no cover\u001b[0m\u001b[1;33m\u001b[0m\u001b[0m\n\u001b[0;32m   3119\u001b[0m                 \u001b[1;32mraise\u001b[0m \u001b[0me1\u001b[0m\u001b[1;33m\u001b[0m\u001b[0m\n",
      "\u001b[1;32mC:\\ProgramData\\Anaconda3\\lib\\site-packages\\pandas\\core\\indexes\\base.py\u001b[0m in \u001b[0;36mget_value\u001b[1;34m(self, series, key)\u001b[0m\n\u001b[0;32m   3101\u001b[0m         \u001b[1;32mtry\u001b[0m\u001b[1;33m:\u001b[0m\u001b[1;33m\u001b[0m\u001b[0m\n\u001b[0;32m   3102\u001b[0m             return self._engine.get_value(s, k,\n\u001b[1;32m-> 3103\u001b[1;33m                                           tz=getattr(series.dtype, 'tz', None))\n\u001b[0m\u001b[0;32m   3104\u001b[0m         \u001b[1;32mexcept\u001b[0m \u001b[0mKeyError\u001b[0m \u001b[1;32mas\u001b[0m \u001b[0me1\u001b[0m\u001b[1;33m:\u001b[0m\u001b[1;33m\u001b[0m\u001b[0m\n\u001b[0;32m   3105\u001b[0m             \u001b[1;32mif\u001b[0m \u001b[0mlen\u001b[0m\u001b[1;33m(\u001b[0m\u001b[0mself\u001b[0m\u001b[1;33m)\u001b[0m \u001b[1;33m>\u001b[0m \u001b[1;36m0\u001b[0m \u001b[1;32mand\u001b[0m \u001b[0mself\u001b[0m\u001b[1;33m.\u001b[0m\u001b[0minferred_type\u001b[0m \u001b[1;32min\u001b[0m \u001b[1;33m[\u001b[0m\u001b[1;34m'integer'\u001b[0m\u001b[1;33m,\u001b[0m \u001b[1;34m'boolean'\u001b[0m\u001b[1;33m]\u001b[0m\u001b[1;33m:\u001b[0m\u001b[1;33m\u001b[0m\u001b[0m\n",
      "\u001b[1;32mpandas\\_libs\\index.pyx\u001b[0m in \u001b[0;36mpandas._libs.index.IndexEngine.get_value\u001b[1;34m()\u001b[0m\n",
      "\u001b[1;32mpandas\\_libs\\index.pyx\u001b[0m in \u001b[0;36mpandas._libs.index.IndexEngine.get_value\u001b[1;34m()\u001b[0m\n",
      "\u001b[1;32mpandas\\_libs\\index.pyx\u001b[0m in \u001b[0;36mpandas._libs.index.IndexEngine.get_loc\u001b[1;34m()\u001b[0m\n",
      "\u001b[1;32mpandas\\_libs\\hashtable_class_helper.pxi\u001b[0m in \u001b[0;36mpandas._libs.hashtable.PyObjectHashTable.get_item\u001b[1;34m()\u001b[0m\n",
      "\u001b[1;32mpandas\\_libs\\hashtable_class_helper.pxi\u001b[0m in \u001b[0;36mpandas._libs.hashtable.PyObjectHashTable.get_item\u001b[1;34m()\u001b[0m\n",
      "\u001b[1;31mKeyError\u001b[0m: ('Vermont', 'Nevada', 'Idaho')"
     ]
    }
   ],
   "source": [
    "data['Vermont', 'Nevada', 'Idaho']"
   ]
  },
  {
   "cell_type": "code",
   "execution_count": 48,
   "metadata": {},
   "outputs": [],
   "source": [
    "data[['Vermont', 'Nevada', 'Idaho']] = np.nan"
   ]
  },
  {
   "cell_type": "code",
   "execution_count": 49,
   "metadata": {},
   "outputs": [
    {
     "data": {
      "text/plain": [
       "Ohio         -0.519585\n",
       "New York      1.143393\n",
       "Vermont            NaN\n",
       "Florida       1.602359\n",
       "Oregon       -2.457285\n",
       "Nevada             NaN\n",
       "California    0.719948\n",
       "Idaho              NaN\n",
       "dtype: float64"
      ]
     },
     "execution_count": 49,
     "metadata": {},
     "output_type": "execute_result"
    }
   ],
   "source": [
    "data"
   ]
  },
  {
   "cell_type": "code",
   "execution_count": 50,
   "metadata": {},
   "outputs": [],
   "source": [
    "fill_values = {'East': 0.5, 'West': -1}"
   ]
  },
  {
   "cell_type": "code",
   "execution_count": 52,
   "metadata": {},
   "outputs": [],
   "source": [
    "fill_func = lambda g: g.fillna(fill_values[g.name])"
   ]
  },
  {
   "cell_type": "code",
   "execution_count": 53,
   "metadata": {},
   "outputs": [
    {
     "data": {
      "text/plain": [
       "Ohio         -0.519585\n",
       "New York      1.143393\n",
       "Vermont       0.500000\n",
       "Florida       1.602359\n",
       "Oregon       -2.457285\n",
       "Nevada       -1.000000\n",
       "California    0.719948\n",
       "Idaho        -1.000000\n",
       "dtype: float64"
      ]
     },
     "execution_count": 53,
     "metadata": {},
     "output_type": "execute_result"
    }
   ],
   "source": [
    "data.groupby(group_key).apply(fill_func)"
   ]
  },
  {
   "cell_type": "code",
   "execution_count": 59,
   "metadata": {},
   "outputs": [],
   "source": [
    "fill_mean = lambda g: g.fillna(g.mean())"
   ]
  },
  {
   "cell_type": "code",
   "execution_count": 60,
   "metadata": {},
   "outputs": [
    {
     "data": {
      "text/plain": [
       "Ohio         -0.519585\n",
       "New York      1.143393\n",
       "Vermont       0.742056\n",
       "Florida       1.602359\n",
       "Oregon       -2.457285\n",
       "Nevada       -0.868668\n",
       "California    0.719948\n",
       "Idaho        -0.868668\n",
       "dtype: float64"
      ]
     },
     "execution_count": 60,
     "metadata": {},
     "output_type": "execute_result"
    }
   ],
   "source": [
    "data.groupby(group_key).apply(fill_mean)"
   ]
  },
  {
   "cell_type": "code",
   "execution_count": 61,
   "metadata": {},
   "outputs": [
    {
     "data": {
      "text/plain": [
       "['East', 'East', 'East', 'East', 'West', 'West', 'West', 'West']"
      ]
     },
     "execution_count": 61,
     "metadata": {},
     "output_type": "execute_result"
    }
   ],
   "source": [
    "group_key"
   ]
  },
  {
   "cell_type": "code",
   "execution_count": 62,
   "metadata": {},
   "outputs": [
    {
     "data": {
      "text/plain": [
       "East    0.742056\n",
       "West   -0.868668\n",
       "dtype: float64"
      ]
     },
     "execution_count": 62,
     "metadata": {},
     "output_type": "execute_result"
    }
   ],
   "source": [
    "data.groupby(group_key).mean()"
   ]
  },
  {
   "cell_type": "code",
   "execution_count": 67,
   "metadata": {},
   "outputs": [],
   "source": [
    "suits = ['H', 'S', 'C', 'D']\n",
    "card_val = (list(range(1, 11)) + [10] * 3) * 4\n",
    "base_names = ['A'] + list(range(2, 11)) + ['J', 'K', 'Q']\n",
    "cards = []"
   ]
  },
  {
   "cell_type": "code",
   "execution_count": 68,
   "metadata": {},
   "outputs": [],
   "source": [
    "for suit in ['H', 'S', 'C', 'D']:\n",
    "    cards.extend(str(num) + suit for num in base_names)   #循环，先是最外suit，选中一个H，进入内部，内循环是num，每个num都和suit的第一个H进行完后跳出小循环，进入suit第二个S"
   ]
  },
  {
   "cell_type": "code",
   "execution_count": 69,
   "metadata": {},
   "outputs": [
    {
     "data": {
      "text/plain": [
       "['AH',\n",
       " '2H',\n",
       " '3H',\n",
       " '4H',\n",
       " '5H',\n",
       " '6H',\n",
       " '7H',\n",
       " '8H',\n",
       " '9H',\n",
       " '10H',\n",
       " 'JH',\n",
       " 'KH',\n",
       " 'QH',\n",
       " 'AS',\n",
       " '2S',\n",
       " '3S',\n",
       " '4S',\n",
       " '5S',\n",
       " '6S',\n",
       " '7S',\n",
       " '8S',\n",
       " '9S',\n",
       " '10S',\n",
       " 'JS',\n",
       " 'KS',\n",
       " 'QS',\n",
       " 'AC',\n",
       " '2C',\n",
       " '3C',\n",
       " '4C',\n",
       " '5C',\n",
       " '6C',\n",
       " '7C',\n",
       " '8C',\n",
       " '9C',\n",
       " '10C',\n",
       " 'JC',\n",
       " 'KC',\n",
       " 'QC',\n",
       " 'AD',\n",
       " '2D',\n",
       " '3D',\n",
       " '4D',\n",
       " '5D',\n",
       " '6D',\n",
       " '7D',\n",
       " '8D',\n",
       " '9D',\n",
       " '10D',\n",
       " 'JD',\n",
       " 'KD',\n",
       " 'QD']"
      ]
     },
     "execution_count": 69,
     "metadata": {},
     "output_type": "execute_result"
    }
   ],
   "source": [
    "cards"
   ]
  },
  {
   "cell_type": "code",
   "execution_count": 70,
   "metadata": {},
   "outputs": [],
   "source": [
    "def draw(deck, n=5):\n",
    "    return deck.sample(n)"
   ]
  },
  {
   "cell_type": "code",
   "execution_count": 73,
   "metadata": {},
   "outputs": [],
   "source": [
    "deck = pd.Series(card_val, index=cards)"
   ]
  },
  {
   "cell_type": "code",
   "execution_count": 74,
   "metadata": {},
   "outputs": [
    {
     "data": {
      "text/plain": [
       "AH      1\n",
       "2H      2\n",
       "3H      3\n",
       "4H      4\n",
       "5H      5\n",
       "6H      6\n",
       "7H      7\n",
       "8H      8\n",
       "9H      9\n",
       "10H    10\n",
       "JH     10\n",
       "KH     10\n",
       "QH     10\n",
       "AS      1\n",
       "2S      2\n",
       "3S      3\n",
       "4S      4\n",
       "5S      5\n",
       "6S      6\n",
       "7S      7\n",
       "8S      8\n",
       "9S      9\n",
       "10S    10\n",
       "JS     10\n",
       "KS     10\n",
       "QS     10\n",
       "AC      1\n",
       "2C      2\n",
       "3C      3\n",
       "4C      4\n",
       "5C      5\n",
       "6C      6\n",
       "7C      7\n",
       "8C      8\n",
       "9C      9\n",
       "10C    10\n",
       "JC     10\n",
       "KC     10\n",
       "QC     10\n",
       "AD      1\n",
       "2D      2\n",
       "3D      3\n",
       "4D      4\n",
       "5D      5\n",
       "6D      6\n",
       "7D      7\n",
       "8D      8\n",
       "9D      9\n",
       "10D    10\n",
       "JD     10\n",
       "KD     10\n",
       "QD     10\n",
       "dtype: int64"
      ]
     },
     "execution_count": 74,
     "metadata": {},
     "output_type": "execute_result"
    }
   ],
   "source": [
    "deck"
   ]
  },
  {
   "cell_type": "code",
   "execution_count": 84,
   "metadata": {},
   "outputs": [
    {
     "data": {
      "text/plain": [
       "QD    10\n",
       "JS    10\n",
       "AH     1\n",
       "9C     9\n",
       "3S     3\n",
       "dtype: int64"
      ]
     },
     "execution_count": 84,
     "metadata": {},
     "output_type": "execute_result"
    }
   ],
   "source": [
    "draw(deck)"
   ]
  },
  {
   "cell_type": "code",
   "execution_count": 85,
   "metadata": {},
   "outputs": [
    {
     "data": {
      "text/plain": [
       "AH    1\n",
       "2H    2\n",
       "3H    3\n",
       "4H    4\n",
       "5H    5\n",
       "dtype: int64"
      ]
     },
     "execution_count": 85,
     "metadata": {},
     "output_type": "execute_result"
    }
   ],
   "source": [
    "deck.head()"
   ]
  },
  {
   "cell_type": "code",
   "execution_count": 79,
   "metadata": {},
   "outputs": [],
   "source": [
    "get_suit = lambda card: card[-1]"
   ]
  },
  {
   "cell_type": "code",
   "execution_count": 80,
   "metadata": {},
   "outputs": [
    {
     "data": {
      "text/plain": [
       "C  JC     10\n",
       "   2C      2\n",
       "D  KD     10\n",
       "   2D      2\n",
       "H  10H    10\n",
       "   3H      3\n",
       "S  5S      5\n",
       "   9S      9\n",
       "dtype: int64"
      ]
     },
     "execution_count": 80,
     "metadata": {},
     "output_type": "execute_result"
    }
   ],
   "source": [
    "deck.groupby(get_suit).apply(draw, n=2)     #If by is a function, it’s called on each value of the object’s index.  见pandas文档"
   ]
  },
  {
   "cell_type": "code",
   "execution_count": null,
   "metadata": {},
   "outputs": [],
   "source": []
  },
  {
   "cell_type": "code",
   "execution_count": null,
   "metadata": {},
   "outputs": [],
   "source": []
  }
 ],
 "metadata": {
  "kernelspec": {
   "display_name": "Python 3",
   "language": "python",
   "name": "python3"
  },
  "language_info": {
   "codemirror_mode": {
    "name": "ipython",
    "version": 3
   },
   "file_extension": ".py",
   "mimetype": "text/x-python",
   "name": "python",
   "nbconvert_exporter": "python",
   "pygments_lexer": "ipython3",
   "version": "3.6.5"
  }
 },
 "nbformat": 4,
 "nbformat_minor": 2
}
